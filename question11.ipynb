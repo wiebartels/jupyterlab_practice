{
 "cells": [
  {
   "cell_type": "markdown",
   "id": "b71e851a-ec00-47ea-852d-175d1b6f3997",
   "metadata": {},
   "source": [
    "# Notebook for assignment 7\n",
    "\n",
    " Wiebke Bartels  \n",
    " This notebook is for question 11."
   ]
  },
  {
   "cell_type": "code",
   "execution_count": 10,
   "id": "2ad6838b-4fd8-4b3b-90d6-4d3847ade03f",
   "metadata": {},
   "outputs": [
    {
     "data": {
      "text/plain": [
       "5.0"
      ]
     },
     "execution_count": 10,
     "metadata": {},
     "output_type": "execute_result"
    }
   ],
   "source": [
    "def compute_mean(numerical_list):\n",
    "    if type(numerical_list) is not list:\n",
    "        raise Exception(\"The input is not a list.\")\n",
    "    sum_numbers = sum(numerical_list)\n",
    "    mean_numbers = sum_numbers/len(numerical_list)\n",
    "    return mean_numbers\n",
    "\n",
    "compute_mean([2, 4, 6, 8])"
   ]
  },
  {
   "cell_type": "markdown",
   "id": "393d6280-63d1-4c29-aeb5-ae4b999eb9fe",
   "metadata": {},
   "source": [
    "The function `compute_mean()` takes a numerical list as the input, calculates and returns the mean value of the list. The equation below shows how the mean $\\bar{x}$ can be calculated: \n",
    "\n",
    "$$ \\bar{x} = \\frac{x_{1}+x_{2}+...+x_{i}}{n} = \\frac{1}{n} (\\sum_{n=1}^{n} x_{i}) $$"
   ]
  }
 ],
 "metadata": {
  "kernelspec": {
   "display_name": "Python [conda env:test_env]",
   "language": "python",
   "name": "conda-env-test_env-py"
  },
  "language_info": {
   "codemirror_mode": {
    "name": "ipython",
    "version": 3
   },
   "file_extension": ".py",
   "mimetype": "text/x-python",
   "name": "python",
   "nbconvert_exporter": "python",
   "pygments_lexer": "ipython3",
   "version": "3.12.4"
  }
 },
 "nbformat": 4,
 "nbformat_minor": 5
}
